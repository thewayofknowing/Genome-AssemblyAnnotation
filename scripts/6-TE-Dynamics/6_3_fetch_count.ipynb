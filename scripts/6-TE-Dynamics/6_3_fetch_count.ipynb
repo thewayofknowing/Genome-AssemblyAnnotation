{
 "cells": [
  {
   "cell_type": "code",
   "execution_count": 1,
   "metadata": {},
   "outputs": [],
   "source": [
    "import pandas as pd"
   ]
  },
  {
   "cell_type": "code",
   "execution_count": 2,
   "metadata": {},
   "outputs": [
    {
     "name": "stdout",
     "output_type": "stream",
     "text": [
      "<bound method NDFrame.head of                           #TE Clade\n",
      "0   TE_00000005_INT#LTR/Copia   Ale\n",
      "1   TE_00000018_INT#LTR/Copia   Ale\n",
      "2   TE_00000028_INT#LTR/Copia   Ale\n",
      "3   TE_00000032_INT#LTR/Copia   Ale\n",
      "4   TE_00000042_INT#LTR/Copia   Ale\n",
      "..                        ...   ...\n",
      "75  TE_00000654_INT#LTR/Copia   Ale\n",
      "76  TE_00000660_INT#LTR/Copia  Tork\n",
      "77  TE_00000671_INT#LTR/Copia  Tork\n",
      "78  TE_00000676_INT#LTR/Copia  SIRE\n",
      "79  TE_00000683_INT#LTR/Copia   Ale\n",
      "\n",
      "[80 rows x 2 columns]>\n"
     ]
    }
   ],
   "source": [
    "filename = '/storage/homefs/kk22w918/Assembly/5-TE/TESorter/flye_copia.cls.tsv'\n",
    "df = pd.read_csv(filename, sep='\\t', header=0, usecols=[0,3])\n",
    "print(df.head)"
   ]
  },
  {
   "cell_type": "code",
   "execution_count": 7,
   "metadata": {},
   "outputs": [
    {
     "name": "stdout",
     "output_type": "stream",
     "text": [
      "{'Tork', 'SIRE', 'Bianca', 'Ivana', 'Angela', 'Ale'}\n"
     ]
    }
   ],
   "source": [
    "print(set(df['Clade']))\n",
    "coloring = {\n",
    "    'Tork': '#00ff00', \n",
    "    'SIRE': '#FFA500',\n",
    "    'Bianca': '#FFA500', \n",
    "    'Ivana': '#ffff00', \n",
    "    'Angela': '#ff00ff', \n",
    "    'Ale': '#ee0000'}"
   ]
  },
  {
   "cell_type": "code",
   "execution_count": 8,
   "metadata": {},
   "outputs": [],
   "source": [
    "hex_color = list(map(lambda x: coloring[x], df['Clade']))\n",
    "df['Hex'] = hex_color"
   ]
  },
  {
   "cell_type": "code",
   "execution_count": 10,
   "metadata": {},
   "outputs": [
    {
     "name": "stdout",
     "output_type": "stream",
     "text": [
      "<bound method NDFrame.head of                           #TE      Hex Clade\n",
      "0   TE_00000005_INT#LTR/Copia  #ee0000   Ale\n",
      "1   TE_00000018_INT#LTR/Copia  #ee0000   Ale\n",
      "2   TE_00000028_INT#LTR/Copia  #ee0000   Ale\n",
      "3   TE_00000032_INT#LTR/Copia  #ee0000   Ale\n",
      "4   TE_00000042_INT#LTR/Copia  #ee0000   Ale\n",
      "..                        ...      ...   ...\n",
      "75  TE_00000654_INT#LTR/Copia  #ee0000   Ale\n",
      "76  TE_00000660_INT#LTR/Copia  #00ff00  Tork\n",
      "77  TE_00000671_INT#LTR/Copia  #00ff00  Tork\n",
      "78  TE_00000676_INT#LTR/Copia  #FFA500  SIRE\n",
      "79  TE_00000683_INT#LTR/Copia  #ee0000   Ale\n",
      "\n",
      "[80 rows x 3 columns]>\n"
     ]
    }
   ],
   "source": [
    "cols = ['#TE', 'Hex', 'Clade']\n",
    "df = df[cols]\n",
    "print(df.head)"
   ]
  },
  {
   "cell_type": "code",
   "execution_count": 12,
   "metadata": {},
   "outputs": [],
   "source": [
    "df.to_csv('Copia_color.txt', sep=' ', index=False)"
   ]
  },
  {
   "cell_type": "code",
   "execution_count": null,
   "metadata": {},
   "outputs": [],
   "source": []
  }
 ],
 "metadata": {
  "kernelspec": {
   "display_name": "fire",
   "language": "python",
   "name": "python3"
  },
  "language_info": {
   "codemirror_mode": {
    "name": "ipython",
    "version": 3
   },
   "file_extension": ".py",
   "mimetype": "text/x-python",
   "name": "python",
   "nbconvert_exporter": "python",
   "pygments_lexer": "ipython3",
   "version": "3.11.5"
  }
 },
 "nbformat": 4,
 "nbformat_minor": 2
}
